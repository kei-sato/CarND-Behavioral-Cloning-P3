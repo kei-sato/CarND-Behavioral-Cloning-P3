{
 "cells": [
  {
   "cell_type": "code",
   "execution_count": 7,
   "metadata": {},
   "outputs": [],
   "source": [
    "import os\n",
    "import argparse\n",
    "import csv\n",
    "import cv2\n",
    "import numpy as np\n",
    "import matplotlib.pyplot as plt\n",
    "%matplotlib inline\n"
   ]
  },
  {
   "cell_type": "code",
   "execution_count": 3,
   "metadata": {},
   "outputs": [],
   "source": [
    "_datadir = 'data'\n",
    "\n",
    "# read csv\n",
    "lines = []\n",
    "with open(os.path.join(_datadir, 'driving_log.csv')) as csvfile:\n",
    "    reader = csv.reader(csvfile)\n",
    "    for line in reader:\n",
    "        lines.append(line)\n"
   ]
  },
  {
   "cell_type": "code",
   "execution_count": 4,
   "metadata": {
    "collapsed": true
   },
   "outputs": [],
   "source": [
    "# line fields: center,left,right,steering,throttle,brake,speed\n",
    "def get_images_steerings(line):\n",
    "    images = []\n",
    "    steerings = []\n",
    "\n",
    "    # center, left, right = line[0], line[1], line[2]\n",
    "    source_paths = [line[i] for i in range(3)]\n",
    "    # get file name\n",
    "    source_paths = [x.split('/')[-1] for x in source_paths]\n",
    "    # add the data directory path\n",
    "    source_paths = [os.path.join(_datadir, 'IMG', x) for x in source_paths]\n",
    "    imgs = [cv2.imread(x) for x in source_paths]\n",
    "    img_center, img_left, img_right = imgs\n",
    "    images.extend([img_center, img_left, img_right])\n",
    "\n",
    "    steering_center = float(line[3])\n",
    "    # correction of the steering angle for the side camera images\n",
    "    correction = 0.2\n",
    "    steering_left = steering_center + correction\n",
    "    steering_right = steering_center - correction\n",
    "    steerings.extend([steering_center, steering_left, steering_right])\n",
    "\n",
    "    # add horizontal flipped images of each three images and nagated steering angles\n",
    "    image_flips = [np.fliplr(x) for x in imgs]\n",
    "    steering_flips = [-steering_center, -steering_left, -steering_right]\n",
    "    images.extend(image_flips)\n",
    "    steerings.extend(steering_flips)\n",
    "\n",
    "    return images, steerings\n"
   ]
  },
  {
   "cell_type": "code",
   "execution_count": 17,
   "metadata": {},
   "outputs": [
    {
     "data": {
      "image/png": "[encoded data removed]",
      "text/plain": [
       "<matplotlib.figure.Figure at 0x1e7e2f550>"
      ]
     },
     "metadata": {},
     "output_type": "display_data"
    }
   ],
   "source": [
    "steerings = [float(line[3]) for line in lines]\n",
    "plt.figure(figsize=(12,5))\n",
    "plt.hist(steerings,alpha=0.5,edgecolor='gray')\n",
    "plt.xlabel(\"steering angle\")\n",
    "plt.ylabel(\"frequency\")\n",
    "plt.show()\n",
    "# plt.savefig('steerings.png', bbox_inches='tight')"
   ]
  },
  {
   "cell_type": "code",
   "execution_count": null,
   "metadata": {
    "collapsed": true
   },
   "outputs": [],
   "source": []
  }
 ],
 "metadata": {
  "kernelspec": {
   "display_name": "Python 3",
   "language": "python",
   "name": "python3"
  },
  "language_info": {
   "codemirror_mode": {
    "name": "ipython",
    "version": 3
   },
   "file_extension": ".py",
   "mimetype": "text/x-python",
   "name": "python",
   "nbconvert_exporter": "python",
   "pygments_lexer": "ipython3",
   "version": "3.5.2"
  },
  "widgets": {
   "state": {},
   "version": "1.1.2"
  }
 },
 "nbformat": 4,
 "nbformat_minor": 2
}
